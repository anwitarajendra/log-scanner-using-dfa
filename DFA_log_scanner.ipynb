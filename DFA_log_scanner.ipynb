{
  "nbformat": 4,
  "nbformat_minor": 0,
  "metadata": {
    "colab": {
      "provenance": [],
      "authorship_tag": "ABX9TyPun62t0hR2f/7/yIJrORLd",
      "include_colab_link": true
    },
    "kernelspec": {
      "name": "python3",
      "display_name": "Python 3"
    },
    "language_info": {
      "name": "python"
    }
  },
  "cells": [
    {
      "cell_type": "markdown",
      "metadata": {
        "id": "view-in-github",
        "colab_type": "text"
      },
      "source": [
        "<a href=\"https://colab.research.google.com/github/anwitarajendra/log-scanner-using-dfa/blob/main/DFA_log_scanner.ipynb\" target=\"_parent\"><img src=\"https://colab.research.google.com/assets/colab-badge.svg\" alt=\"Open In Colab\"/></a>"
      ]
    },
    {
      "cell_type": "code",
      "execution_count": 14,
      "metadata": {
        "colab": {
          "base_uri": "https://localhost:8080/"
        },
        "id": "sPLfVbnPsxyp",
        "outputId": "e19160c5-e8ca-4136-e3d4-ab4f10f45e0a"
      },
      "outputs": [
        {
          "output_type": "stream",
          "name": "stdout",
          "text": [
            "Requirement already satisfied: streamlit in /usr/local/lib/python3.11/dist-packages (1.47.0)\n",
            "Requirement already satisfied: boto3 in /usr/local/lib/python3.11/dist-packages (1.39.8)\n",
            "Requirement already satisfied: altair<6,>=4.0 in /usr/local/lib/python3.11/dist-packages (from streamlit) (5.5.0)\n",
            "Requirement already satisfied: blinker<2,>=1.5.0 in /usr/local/lib/python3.11/dist-packages (from streamlit) (1.9.0)\n",
            "Requirement already satisfied: cachetools<7,>=4.0 in /usr/local/lib/python3.11/dist-packages (from streamlit) (5.5.2)\n",
            "Requirement already satisfied: click<9,>=7.0 in /usr/local/lib/python3.11/dist-packages (from streamlit) (8.2.1)\n",
            "Requirement already satisfied: numpy<3,>=1.23 in /usr/local/lib/python3.11/dist-packages (from streamlit) (2.0.2)\n",
            "Requirement already satisfied: packaging<26,>=20 in /usr/local/lib/python3.11/dist-packages (from streamlit) (25.0)\n",
            "Requirement already satisfied: pandas<3,>=1.4.0 in /usr/local/lib/python3.11/dist-packages (from streamlit) (2.2.2)\n",
            "Requirement already satisfied: pillow<12,>=7.1.0 in /usr/local/lib/python3.11/dist-packages (from streamlit) (11.2.1)\n",
            "Requirement already satisfied: protobuf<7,>=3.20 in /usr/local/lib/python3.11/dist-packages (from streamlit) (5.29.5)\n",
            "Requirement already satisfied: pyarrow>=7.0 in /usr/local/lib/python3.11/dist-packages (from streamlit) (18.1.0)\n",
            "Requirement already satisfied: requests<3,>=2.27 in /usr/local/lib/python3.11/dist-packages (from streamlit) (2.32.3)\n",
            "Requirement already satisfied: tenacity<10,>=8.1.0 in /usr/local/lib/python3.11/dist-packages (from streamlit) (8.5.0)\n",
            "Requirement already satisfied: toml<2,>=0.10.1 in /usr/local/lib/python3.11/dist-packages (from streamlit) (0.10.2)\n",
            "Requirement already satisfied: typing-extensions<5,>=4.4.0 in /usr/local/lib/python3.11/dist-packages (from streamlit) (4.14.1)\n",
            "Requirement already satisfied: watchdog<7,>=2.1.5 in /usr/local/lib/python3.11/dist-packages (from streamlit) (6.0.0)\n",
            "Requirement already satisfied: gitpython!=3.1.19,<4,>=3.0.7 in /usr/local/lib/python3.11/dist-packages (from streamlit) (3.1.44)\n",
            "Requirement already satisfied: pydeck<1,>=0.8.0b4 in /usr/local/lib/python3.11/dist-packages (from streamlit) (0.9.1)\n",
            "Requirement already satisfied: tornado!=6.5.0,<7,>=6.0.3 in /usr/local/lib/python3.11/dist-packages (from streamlit) (6.4.2)\n",
            "Requirement already satisfied: botocore<1.40.0,>=1.39.8 in /usr/local/lib/python3.11/dist-packages (from boto3) (1.39.8)\n",
            "Requirement already satisfied: jmespath<2.0.0,>=0.7.1 in /usr/local/lib/python3.11/dist-packages (from boto3) (1.0.1)\n",
            "Requirement already satisfied: s3transfer<0.14.0,>=0.13.0 in /usr/local/lib/python3.11/dist-packages (from boto3) (0.13.0)\n",
            "Requirement already satisfied: jinja2 in /usr/local/lib/python3.11/dist-packages (from altair<6,>=4.0->streamlit) (3.1.6)\n",
            "Requirement already satisfied: jsonschema>=3.0 in /usr/local/lib/python3.11/dist-packages (from altair<6,>=4.0->streamlit) (4.24.0)\n",
            "Requirement already satisfied: narwhals>=1.14.2 in /usr/local/lib/python3.11/dist-packages (from altair<6,>=4.0->streamlit) (1.47.0)\n",
            "Requirement already satisfied: python-dateutil<3.0.0,>=2.1 in /usr/local/lib/python3.11/dist-packages (from botocore<1.40.0,>=1.39.8->boto3) (2.9.0.post0)\n",
            "Requirement already satisfied: urllib3!=2.2.0,<3,>=1.25.4 in /usr/local/lib/python3.11/dist-packages (from botocore<1.40.0,>=1.39.8->boto3) (2.4.0)\n",
            "Requirement already satisfied: gitdb<5,>=4.0.1 in /usr/local/lib/python3.11/dist-packages (from gitpython!=3.1.19,<4,>=3.0.7->streamlit) (4.0.12)\n",
            "Requirement already satisfied: pytz>=2020.1 in /usr/local/lib/python3.11/dist-packages (from pandas<3,>=1.4.0->streamlit) (2025.2)\n",
            "Requirement already satisfied: tzdata>=2022.7 in /usr/local/lib/python3.11/dist-packages (from pandas<3,>=1.4.0->streamlit) (2025.2)\n",
            "Requirement already satisfied: charset-normalizer<4,>=2 in /usr/local/lib/python3.11/dist-packages (from requests<3,>=2.27->streamlit) (3.4.2)\n",
            "Requirement already satisfied: idna<4,>=2.5 in /usr/local/lib/python3.11/dist-packages (from requests<3,>=2.27->streamlit) (3.10)\n",
            "Requirement already satisfied: certifi>=2017.4.17 in /usr/local/lib/python3.11/dist-packages (from requests<3,>=2.27->streamlit) (2025.7.14)\n",
            "Requirement already satisfied: smmap<6,>=3.0.1 in /usr/local/lib/python3.11/dist-packages (from gitdb<5,>=4.0.1->gitpython!=3.1.19,<4,>=3.0.7->streamlit) (5.0.2)\n",
            "Requirement already satisfied: MarkupSafe>=2.0 in /usr/local/lib/python3.11/dist-packages (from jinja2->altair<6,>=4.0->streamlit) (3.0.2)\n",
            "Requirement already satisfied: attrs>=22.2.0 in /usr/local/lib/python3.11/dist-packages (from jsonschema>=3.0->altair<6,>=4.0->streamlit) (25.3.0)\n",
            "Requirement already satisfied: jsonschema-specifications>=2023.03.6 in /usr/local/lib/python3.11/dist-packages (from jsonschema>=3.0->altair<6,>=4.0->streamlit) (2025.4.1)\n",
            "Requirement already satisfied: referencing>=0.28.4 in /usr/local/lib/python3.11/dist-packages (from jsonschema>=3.0->altair<6,>=4.0->streamlit) (0.36.2)\n",
            "Requirement already satisfied: rpds-py>=0.7.1 in /usr/local/lib/python3.11/dist-packages (from jsonschema>=3.0->altair<6,>=4.0->streamlit) (0.26.0)\n",
            "Requirement already satisfied: six>=1.5 in /usr/local/lib/python3.11/dist-packages (from python-dateutil<3.0.0,>=2.1->botocore<1.40.0,>=1.39.8->boto3) (1.17.0)\n"
          ]
        }
      ],
      "source": [
        "\n",
        "!pip install streamlit boto3\n"
      ]
    },
    {
      "cell_type": "markdown",
      "source": [
        "#**DFA LOG SCANNER**"
      ],
      "metadata": {
        "id": "ADmlNAGcUn_8"
      }
    },
    {
      "cell_type": "markdown",
      "source": [
        "# Define Intrusion Patterns and Simulate DFA"
      ],
      "metadata": {
        "id": "kATSdQgd2G5U"
      }
    },
    {
      "cell_type": "code",
      "source": [
        "import re\n",
        "\n",
        "\n",
        "patterns = {\n",
        "    'Login Failures': re.compile(r'(login failed.*?){3,}', re.IGNORECASE),\n",
        "    'Unauthorized Access': re.compile(r'unauthorized access', re.IGNORECASE),\n",
        "    'SQL Injection': re.compile(r'(select|union|insert).*from', re.IGNORECASE),\n",
        "    'Suspicious IP': re.compile(r'192\\.168\\.1\\.\\d{1,3}', re.IGNORECASE),\n",
        "}\n"
      ],
      "metadata": {
        "id": "Us15utexuMbb"
      },
      "execution_count": 1,
      "outputs": []
    },
    {
      "cell_type": "markdown",
      "source": [
        "# Sample Log Data for Testing"
      ],
      "metadata": {
        "id": "p3jgySg46vvd"
      }
    },
    {
      "cell_type": "code",
      "source": [
        "\n",
        "log_data = \"\"\"\n",
        "[10:02:14] login failed for user 'admin'\n",
        "[10:02:16] login failed for user 'admin'\n",
        "[10:02:19] login failed for user 'admin'\n",
        "[10:02:21] login successful for user 'admin'\n",
        "[10:03:05] unauthorized access attempt from IP 192.168.1.10\n",
        "[10:03:10] SELECT * FROM users WHERE id=1\n",
        "\"\"\"\n"
      ],
      "metadata": {
        "id": "wQEJ8ggFuQ45"
      },
      "execution_count": 2,
      "outputs": []
    },
    {
      "cell_type": "markdown",
      "source": [
        "#Run Pattern Matching on Sample Logs"
      ],
      "metadata": {
        "id": "GsCOcC6C6yB6"
      }
    },
    {
      "cell_type": "code",
      "source": [
        "\n",
        "for name, pattern in patterns.items():\n",
        "    matches = pattern.findall(log_data)\n",
        "    if matches:\n",
        "        print(f\"⚠️ {name}: {len(matches)} suspicious instance(s) found\")\n",
        "    else:\n",
        "        print(f\"✅ {name}: No issues found\")\n"
      ],
      "metadata": {
        "colab": {
          "base_uri": "https://localhost:8080/"
        },
        "id": "HinV6uA1uV79",
        "outputId": "e8bee2c5-e8ea-41b9-9d6e-6e0b38d1dc7c"
      },
      "execution_count": 3,
      "outputs": [
        {
          "output_type": "stream",
          "name": "stdout",
          "text": [
            "✅ Login Failures: No issues found\n",
            "⚠️ Unauthorized Access: 1 suspicious instance(s) found\n",
            "⚠️ SQL Injection: 1 suspicious instance(s) found\n",
            "⚠️ Suspicious IP: 1 suspicious instance(s) found\n"
          ]
        }
      ]
    },
    {
      "cell_type": "markdown",
      "source": [
        "#Simulate DFA to Detect Repeated Login Failures"
      ],
      "metadata": {
        "id": "1wUJ1c9_7C2G"
      }
    },
    {
      "cell_type": "code",
      "source": [
        "def simulate_dfa(text, dfa_words):\n",
        "    state = 0\n",
        "    count = 0\n",
        "    words = text.lower().split()\n",
        "    for word in words:\n",
        "        if word == dfa_words[state]:\n",
        "            state += 1\n",
        "            if state == len(dfa_words):\n",
        "                count += 1\n",
        "                state = 0\n",
        "        else:\n",
        "            state = 0\n",
        "    return count\n",
        "\n",
        "\n",
        "\n",
        "dfa_pattern = ['login', 'failed', 'login', 'failed', 'login', 'failed']\n",
        "occurrences = simulate_dfa(log_data, dfa_pattern)\n",
        "print(f\"DFA match: {occurrences} suspicious login pattern(s) found\")\n"
      ],
      "metadata": {
        "colab": {
          "base_uri": "https://localhost:8080/"
        },
        "id": "cdOGcj9UuXRM",
        "outputId": "0a79e7eb-de9e-4259-f90b-6a98637617a3"
      },
      "execution_count": 4,
      "outputs": [
        {
          "output_type": "stream",
          "name": "stdout",
          "text": [
            "DFA match: 0 suspicious login pattern(s) found\n"
          ]
        }
      ]
    },
    {
      "cell_type": "markdown",
      "source": [
        "# Write Streamlit App to app.py"
      ],
      "metadata": {
        "id": "fPe4ZUSh53lQ"
      }
    },
    {
      "cell_type": "code",
      "source": [
        "%%writefile app.py\n",
        "import streamlit as st\n",
        "import re\n",
        "\n",
        "\n",
        "patterns = {\n",
        "    'Login Failures (x3)': re.compile(r'(login failed.*?){3,}', re.IGNORECASE),\n",
        "    'Unauthorized Access': re.compile(r'unauthorized access', re.IGNORECASE),\n",
        "    'SQL Injection': re.compile(r'(select|union|insert).*from', re.IGNORECASE),\n",
        "    'Suspicious IP': re.compile(r'192\\.168\\.1\\.\\d{1,3}', re.IGNORECASE),\n",
        "}\n",
        "\n",
        "st.title(\"🛡️ Intrusion Detection Demo (Finite Automata + Regex)\")\n",
        "\n",
        "\n",
        "log_input = st.text_area(\"Paste log data below\", height=250)\n",
        "\n",
        "if st.button(\"Scan Logs\"):\n",
        "    if not log_input.strip():\n",
        "        st.warning(\"Please paste some log content first.\")\n",
        "    else:\n",
        "        for name, pattern in patterns.items():\n",
        "            matches = pattern.findall(log_input)\n",
        "            if matches:\n",
        "                st.error(f\"⚠️ {name}: {len(matches)} match(es) found\")\n",
        "            else:\n",
        "                st.error(f\"🔐 {name}: suspicious patterns\")\n"
      ],
      "metadata": {
        "colab": {
          "base_uri": "https://localhost:8080/"
        },
        "id": "yBggUr9vuof_",
        "outputId": "45aedc19-f685-4338-ea71-e21fa4f3981a"
      },
      "execution_count": 5,
      "outputs": [
        {
          "output_type": "stream",
          "name": "stdout",
          "text": [
            "Writing app.py\n"
          ]
        }
      ]
    },
    {
      "cell_type": "markdown",
      "source": [
        "# Install Required Packages"
      ],
      "metadata": {
        "id": "uPk5eRGT59OO"
      }
    },
    {
      "cell_type": "code",
      "source": [
        "!pip install streamlit pyngrok\n"
      ],
      "metadata": {
        "colab": {
          "base_uri": "https://localhost:8080/"
        },
        "id": "AqOUiBwyupvq",
        "outputId": "b5e99561-a7c7-48af-f21d-6d0f7a9f8727"
      },
      "execution_count": 6,
      "outputs": [
        {
          "output_type": "stream",
          "name": "stdout",
          "text": [
            "Collecting streamlit\n",
            "  Downloading streamlit-1.47.0-py3-none-any.whl.metadata (9.0 kB)\n",
            "Collecting pyngrok\n",
            "  Downloading pyngrok-7.2.12-py3-none-any.whl.metadata (9.4 kB)\n",
            "Requirement already satisfied: altair<6,>=4.0 in /usr/local/lib/python3.11/dist-packages (from streamlit) (5.5.0)\n",
            "Requirement already satisfied: blinker<2,>=1.5.0 in /usr/local/lib/python3.11/dist-packages (from streamlit) (1.9.0)\n",
            "Requirement already satisfied: cachetools<7,>=4.0 in /usr/local/lib/python3.11/dist-packages (from streamlit) (5.5.2)\n",
            "Requirement already satisfied: click<9,>=7.0 in /usr/local/lib/python3.11/dist-packages (from streamlit) (8.2.1)\n",
            "Requirement already satisfied: numpy<3,>=1.23 in /usr/local/lib/python3.11/dist-packages (from streamlit) (2.0.2)\n",
            "Requirement already satisfied: packaging<26,>=20 in /usr/local/lib/python3.11/dist-packages (from streamlit) (25.0)\n",
            "Requirement already satisfied: pandas<3,>=1.4.0 in /usr/local/lib/python3.11/dist-packages (from streamlit) (2.2.2)\n",
            "Requirement already satisfied: pillow<12,>=7.1.0 in /usr/local/lib/python3.11/dist-packages (from streamlit) (11.2.1)\n",
            "Requirement already satisfied: protobuf<7,>=3.20 in /usr/local/lib/python3.11/dist-packages (from streamlit) (5.29.5)\n",
            "Requirement already satisfied: pyarrow>=7.0 in /usr/local/lib/python3.11/dist-packages (from streamlit) (18.1.0)\n",
            "Requirement already satisfied: requests<3,>=2.27 in /usr/local/lib/python3.11/dist-packages (from streamlit) (2.32.3)\n",
            "Requirement already satisfied: tenacity<10,>=8.1.0 in /usr/local/lib/python3.11/dist-packages (from streamlit) (8.5.0)\n",
            "Requirement already satisfied: toml<2,>=0.10.1 in /usr/local/lib/python3.11/dist-packages (from streamlit) (0.10.2)\n",
            "Requirement already satisfied: typing-extensions<5,>=4.4.0 in /usr/local/lib/python3.11/dist-packages (from streamlit) (4.14.1)\n",
            "Collecting watchdog<7,>=2.1.5 (from streamlit)\n",
            "  Downloading watchdog-6.0.0-py3-none-manylinux2014_x86_64.whl.metadata (44 kB)\n",
            "\u001b[2K     \u001b[90m━━━━━━━━━━━━━━━━━━━━━━━━━━━━━━━━━━━━━━━━\u001b[0m \u001b[32m44.3/44.3 kB\u001b[0m \u001b[31m3.3 MB/s\u001b[0m eta \u001b[36m0:00:00\u001b[0m\n",
            "\u001b[?25hRequirement already satisfied: gitpython!=3.1.19,<4,>=3.0.7 in /usr/local/lib/python3.11/dist-packages (from streamlit) (3.1.44)\n",
            "Collecting pydeck<1,>=0.8.0b4 (from streamlit)\n",
            "  Downloading pydeck-0.9.1-py2.py3-none-any.whl.metadata (4.1 kB)\n",
            "Requirement already satisfied: tornado!=6.5.0,<7,>=6.0.3 in /usr/local/lib/python3.11/dist-packages (from streamlit) (6.4.2)\n",
            "Requirement already satisfied: PyYAML>=5.1 in /usr/local/lib/python3.11/dist-packages (from pyngrok) (6.0.2)\n",
            "Requirement already satisfied: jinja2 in /usr/local/lib/python3.11/dist-packages (from altair<6,>=4.0->streamlit) (3.1.6)\n",
            "Requirement already satisfied: jsonschema>=3.0 in /usr/local/lib/python3.11/dist-packages (from altair<6,>=4.0->streamlit) (4.24.0)\n",
            "Requirement already satisfied: narwhals>=1.14.2 in /usr/local/lib/python3.11/dist-packages (from altair<6,>=4.0->streamlit) (1.47.0)\n",
            "Requirement already satisfied: gitdb<5,>=4.0.1 in /usr/local/lib/python3.11/dist-packages (from gitpython!=3.1.19,<4,>=3.0.7->streamlit) (4.0.12)\n",
            "Requirement already satisfied: python-dateutil>=2.8.2 in /usr/local/lib/python3.11/dist-packages (from pandas<3,>=1.4.0->streamlit) (2.9.0.post0)\n",
            "Requirement already satisfied: pytz>=2020.1 in /usr/local/lib/python3.11/dist-packages (from pandas<3,>=1.4.0->streamlit) (2025.2)\n",
            "Requirement already satisfied: tzdata>=2022.7 in /usr/local/lib/python3.11/dist-packages (from pandas<3,>=1.4.0->streamlit) (2025.2)\n",
            "Requirement already satisfied: charset-normalizer<4,>=2 in /usr/local/lib/python3.11/dist-packages (from requests<3,>=2.27->streamlit) (3.4.2)\n",
            "Requirement already satisfied: idna<4,>=2.5 in /usr/local/lib/python3.11/dist-packages (from requests<3,>=2.27->streamlit) (3.10)\n",
            "Requirement already satisfied: urllib3<3,>=1.21.1 in /usr/local/lib/python3.11/dist-packages (from requests<3,>=2.27->streamlit) (2.4.0)\n",
            "Requirement already satisfied: certifi>=2017.4.17 in /usr/local/lib/python3.11/dist-packages (from requests<3,>=2.27->streamlit) (2025.7.14)\n",
            "Requirement already satisfied: smmap<6,>=3.0.1 in /usr/local/lib/python3.11/dist-packages (from gitdb<5,>=4.0.1->gitpython!=3.1.19,<4,>=3.0.7->streamlit) (5.0.2)\n",
            "Requirement already satisfied: MarkupSafe>=2.0 in /usr/local/lib/python3.11/dist-packages (from jinja2->altair<6,>=4.0->streamlit) (3.0.2)\n",
            "Requirement already satisfied: attrs>=22.2.0 in /usr/local/lib/python3.11/dist-packages (from jsonschema>=3.0->altair<6,>=4.0->streamlit) (25.3.0)\n",
            "Requirement already satisfied: jsonschema-specifications>=2023.03.6 in /usr/local/lib/python3.11/dist-packages (from jsonschema>=3.0->altair<6,>=4.0->streamlit) (2025.4.1)\n",
            "Requirement already satisfied: referencing>=0.28.4 in /usr/local/lib/python3.11/dist-packages (from jsonschema>=3.0->altair<6,>=4.0->streamlit) (0.36.2)\n",
            "Requirement already satisfied: rpds-py>=0.7.1 in /usr/local/lib/python3.11/dist-packages (from jsonschema>=3.0->altair<6,>=4.0->streamlit) (0.26.0)\n",
            "Requirement already satisfied: six>=1.5 in /usr/local/lib/python3.11/dist-packages (from python-dateutil>=2.8.2->pandas<3,>=1.4.0->streamlit) (1.17.0)\n",
            "Downloading streamlit-1.47.0-py3-none-any.whl (9.9 MB)\n",
            "\u001b[2K   \u001b[90m━━━━━━━━━━━━━━━━━━━━━━━━━━━━━━━━━━━━━━━━\u001b[0m \u001b[32m9.9/9.9 MB\u001b[0m \u001b[31m80.3 MB/s\u001b[0m eta \u001b[36m0:00:00\u001b[0m\n",
            "\u001b[?25hDownloading pyngrok-7.2.12-py3-none-any.whl (26 kB)\n",
            "Downloading pydeck-0.9.1-py2.py3-none-any.whl (6.9 MB)\n",
            "\u001b[2K   \u001b[90m━━━━━━━━━━━━━━━━━━━━━━━━━━━━━━━━━━━━━━━━\u001b[0m \u001b[32m6.9/6.9 MB\u001b[0m \u001b[31m90.1 MB/s\u001b[0m eta \u001b[36m0:00:00\u001b[0m\n",
            "\u001b[?25hDownloading watchdog-6.0.0-py3-none-manylinux2014_x86_64.whl (79 kB)\n",
            "\u001b[2K   \u001b[90m━━━━━━━━━━━━━━━━━━━━━━━━━━━━━━━━━━━━━━━━\u001b[0m \u001b[32m79.1/79.1 kB\u001b[0m \u001b[31m6.7 MB/s\u001b[0m eta \u001b[36m0:00:00\u001b[0m\n",
            "\u001b[?25hInstalling collected packages: watchdog, pyngrok, pydeck, streamlit\n",
            "Successfully installed pydeck-0.9.1 pyngrok-7.2.12 streamlit-1.47.0 watchdog-6.0.0\n"
          ]
        }
      ]
    },
    {
      "cell_type": "markdown",
      "source": [
        "# Configure ngrok Authentication"
      ],
      "metadata": {
        "id": "v-6KfGJs6C4o"
      }
    },
    {
      "cell_type": "code",
      "source": [
        "from pyngrok import conf\n",
        "\n",
        "conf.get_default().auth_token = \"2zz8ENrte4PMTZNEA052Aok2iro_4waswxuoGBmpjrKe7PP72\"\n"
      ],
      "metadata": {
        "id": "aV4N0VyWv0u1"
      },
      "execution_count": 7,
      "outputs": []
    },
    {
      "cell_type": "markdown",
      "source": [
        "# Rewrite Final Streamlit App"
      ],
      "metadata": {
        "id": "DAmumVx56Hsu"
      }
    },
    {
      "cell_type": "code",
      "source": [
        "%%writefile app.py\n",
        "import streamlit as st\n",
        "import re\n",
        "\n",
        "\n",
        "patterns = {\n",
        "    'Login Failures (x2)': re.compile(r'(login failed.*?){2,}', re.IGNORECASE),\n",
        "    'Unauthorized Access': re.compile(r'unauthorized access', re.IGNORECASE),\n",
        "    'SQL Injection': re.compile(r'(select|union|insert).*from', re.IGNORECASE),\n",
        "    'Suspicious IP': re.compile(r'192\\.168\\.1\\.\\d{1,3}', re.IGNORECASE),\n",
        "}\n",
        "\n",
        "st.title(\"🛡️ Intrusion Detection System (Regex + Automata Style)\")\n",
        "log_input = st.text_area(\"Paste log content here:\", height=250)\n",
        "\n",
        "if st.button(\"Scan\"):\n",
        "    if not log_input.strip():\n",
        "        st.warning(\"Please enter some log data.\")\n",
        "    else:\n",
        "        for name, pattern in patterns.items():\n",
        "            matches = pattern.findall(log_input)\n",
        "            if matches:\n",
        "                st.error(f\"⚠️ {name}: {len(matches)} match(es) found\")\n",
        "            else:\n",
        "                st.error(f\"🔐 {name}: issues detected\")\n"
      ],
      "metadata": {
        "colab": {
          "base_uri": "https://localhost:8080/"
        },
        "id": "_nSpsaJEv1wd",
        "outputId": "df2c6e6c-1efe-4acb-a096-0353ed355d4d"
      },
      "execution_count": 8,
      "outputs": [
        {
          "output_type": "stream",
          "name": "stdout",
          "text": [
            "Overwriting app.py\n"
          ]
        }
      ]
    },
    {
      "cell_type": "code",
      "source": [
        "try:\n",
        "    public_url = ngrok.connect(port=8501)\n",
        "    print(\"Streamlit URL:\", public_url)\n",
        "except Exception as e:\n",
        "    print(\"❌ Ngrok connection failed:\", e)\n"
      ],
      "metadata": {
        "colab": {
          "base_uri": "https://localhost:8080/"
        },
        "id": "2bwDzEvHxkLx",
        "outputId": "0e9cf049-5b8c-4343-bcfd-82237ca775e3"
      },
      "execution_count": 9,
      "outputs": [
        {
          "output_type": "stream",
          "name": "stdout",
          "text": [
            "❌ Ngrok connection failed: name 'ngrok' is not defined\n"
          ]
        }
      ]
    },
    {
      "cell_type": "code",
      "source": [
        "!killall ngrok\n"
      ],
      "metadata": {
        "colab": {
          "base_uri": "https://localhost:8080/"
        },
        "id": "b_1IHOhcPB8L",
        "outputId": "faeace97-b7db-42e3-b069-d135f6dedb32"
      },
      "execution_count": 10,
      "outputs": [
        {
          "output_type": "stream",
          "name": "stdout",
          "text": [
            "ngrok: no process found\n"
          ]
        }
      ]
    },
    {
      "cell_type": "code",
      "source": [
        "from pyngrok import conf\n",
        "conf.get_default().auth_token = \"2zz8ENrte4PMTZNEA052Aok2iro_4waswxuoGBmpjrKe7PP72\"\n"
      ],
      "metadata": {
        "id": "ckVW7fzWyP5H"
      },
      "execution_count": 11,
      "outputs": []
    },
    {
      "cell_type": "code",
      "source": [
        "%%writefile app.py\n",
        "import streamlit as st\n",
        "import re\n",
        "\n",
        "\n",
        "def simulate_dfa(text, dfa_words):\n",
        "    state = 0\n",
        "    count = 0\n",
        "    words = re.findall(r'\\w+', text.lower())\n",
        "    for word in words:\n",
        "        if word == dfa_words[state]:\n",
        "            state += 1\n",
        "            if state == len(dfa_words):\n",
        "                count += 1\n",
        "                state = 0\n",
        "        else:\n",
        "            state = 0\n",
        "    return count\n",
        "\n",
        "\n",
        "patterns = {\n",
        "    'Unauthorized Access': re.compile(r'unauthorized access', re.IGNORECASE),\n",
        "    'SQL Injection': re.compile(r'(select|union|insert).*from', re.IGNORECASE),\n",
        "    'Suspicious IP': re.compile(r'192\\.168\\.1\\.\\d{1,3}', re.IGNORECASE),\n",
        "}\n",
        "\n",
        "st.title(\"🛡️ DFA Log Scanner\")\n",
        "\n",
        "log_input = st.text_area(\"Paste log data below\", height=250)\n",
        "\n",
        "if st.button(\"Scan Logs\"):\n",
        "    if not log_input.strip():\n",
        "        st.warning(\"Please paste some log content first.\")\n",
        "    else:\n",
        "\n",
        "        dfa_pattern = ['login', 'failed', 'login', 'failed', 'login', 'failed']\n",
        "        occurrences = simulate_dfa(log_input, dfa_pattern)\n",
        "        if occurrences > 0:\n",
        "            st.error(f\"⚠️ Login Failures (x3): {occurrences} suspicious pattern(s) found\")\n",
        "        else:\n",
        "            st.error(\"🔐 Login Failures (x3): suspicious patterns\")\n",
        "\n",
        "\n",
        "        for name, pattern in patterns.items():\n",
        "            matches = pattern.findall(log_input)\n",
        "            if matches:\n",
        "                st.error(f\"⚠️ {name}: {len(matches)} match(es) found\")\n",
        "            else:\n",
        "                st.error(f\"🔐 {name}: suspicious patterns\")\n",
        "\n"
      ],
      "metadata": {
        "colab": {
          "base_uri": "https://localhost:8080/"
        },
        "id": "UUXW3QN4yRYG",
        "outputId": "c1496b10-6450-43c3-fd74-5a2f175d05b6"
      },
      "execution_count": 12,
      "outputs": [
        {
          "output_type": "stream",
          "name": "stdout",
          "text": [
            "Overwriting app.py\n"
          ]
        }
      ]
    },
    {
      "cell_type": "markdown",
      "source": [
        "# Launch Streamlit App via ngrok Tunnel"
      ],
      "metadata": {
        "id": "VScAFPO66Ol3"
      }
    },
    {
      "cell_type": "code",
      "source": [
        "import threading\n",
        "import time\n",
        "from pyngrok import ngrok\n",
        "\n",
        "\n",
        "public_url = ngrok.connect(8501, \"http\")\n",
        "print(\"✅ Streamlit Public URL:\", public_url)\n",
        "\n",
        "\n",
        "def run_app():\n",
        "    !streamlit run app.py\n",
        "\n",
        "thread = threading.Thread(target=run_app)\n",
        "thread.start()\n",
        "\n",
        "\n",
        "time.sleep(5)\n",
        "\n"
      ],
      "metadata": {
        "colab": {
          "base_uri": "https://localhost:8080/"
        },
        "id": "OgZa1W6HyU9h",
        "outputId": "95e073ca-beec-4a62-bdda-f3fa054dcf4f"
      },
      "execution_count": 13,
      "outputs": [
        {
          "output_type": "stream",
          "name": "stdout",
          "text": [
            "✅ Streamlit Public URL: NgrokTunnel: \"https://f665116ef809.ngrok-free.app\" -> \"http://localhost:8501\"\n",
            "\n",
            "Collecting usage statistics. To deactivate, set browser.gatherUsageStats to false.\n",
            "\u001b[0m\n",
            "\u001b[0m\n",
            "\u001b[34m\u001b[1m  You can now view your Streamlit app in your browser.\u001b[0m\n",
            "\u001b[0m\n",
            "\u001b[34m  Local URL: \u001b[0m\u001b[1mhttp://localhost:8501\u001b[0m\n",
            "\u001b[34m  Network URL: \u001b[0m\u001b[1mhttp://172.28.0.12:8501\u001b[0m\n",
            "\u001b[34m  External URL: \u001b[0m\u001b[1mhttp://34.48.5.48:8501\u001b[0m\n",
            "\u001b[0m\n"
          ]
        }
      ]
    }
  ]
}